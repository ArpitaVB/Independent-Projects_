{
 "cells": [
  {
   "cell_type": "code",
   "execution_count": 1,
   "metadata": {
    "collapsed": true
   },
   "outputs": [],
   "source": [
    "from pyspark import SparkContext\n",
    "from pyspark.streaming import StreamingContext\n",
    "from pyspark.sql.functions import explode, split, col\n",
    "from IPython import display\n",
    "from time import sleep\n",
    "import matplotlib.pyplot as plt"
   ]
  },
  {
   "cell_type": "code",
   "execution_count": 2,
   "metadata": {
    "collapsed": true
   },
   "outputs": [],
   "source": [
    "sc = SparkContext.getOrCreate()\n",
    "ssc = StreamingContext(sc, 10)\n",
    "sqlContext = SQLContext(sc)"
   ]
  },
  {
   "cell_type": "code",
   "execution_count": 3,
   "metadata": {
    "collapsed": true
   },
   "outputs": [],
   "source": [
    "tweet_stream = spark.readStream.format(\"socket\").option(\"host\", \"127.0.0.1\").option(\"port\", 6666).load()"
   ]
  },
  {
   "cell_type": "code",
   "execution_count": 4,
   "metadata": {
    "collapsed": true
   },
   "outputs": [],
   "source": [
    "tweet_words = tweet_stream.select(explode(split(tweet_stream.value, \" \")).alias(\"word\"))\n",
    "sentiment_words = tweet_words.where((col(\"word\")==\"NEGATIVE\") | (col(\"word\")==\"POSITIVE\")|(col(\"word\")==\"VERY_POSITIVE\") | (col(\"word\")==\"VERY_NEGATIVE\") | (col(\"word\")==\"NEUTRAL\")).groupBy(\"word\").count()"
   ]
  },
  {
   "cell_type": "code",
   "execution_count": null,
   "metadata": {},
   "outputs": [
    {
     "data": {
      "image/png": "[encoded data removed]",
      "text/plain": [
       "<matplotlib.figure.Figure at 0x1995011d860>"
      ]
     },
     "metadata": {},
     "output_type": "display_data"
    }
   ],
   "source": [
    "query = sentiment_words.writeStream.queryName(\"df\").format(\"memory\").outputMode(\"complete\").start()\n",
    "\n",
    "itr = 0\n",
    "while itr < 100:    \n",
    "    sleep(1)        \n",
    "    df_sentiment_words = sqlContext.sql(\"select * from df\")\n",
    "    \n",
    "    if df_sentiment_words.count()>0:        \n",
    "        \n",
    "        df_plot = df_sentiment_words.toPandas()\n",
    "        display.clear_output(wait=True)\n",
    "        plt.rcParams['figure.figsize'] = (8,8)\n",
    "        df_plot.plot.bar( x=\"word\", y=\"count\")\n",
    "        plt.show()\n",
    "    \n",
    "    itr = itr + 1\n",
    "\n",
    "query.awaitTermination()"
   ]
  },
  {
   "cell_type": "code",
   "execution_count": null,
   "metadata": {
    "collapsed": true
   },
   "outputs": [],
   "source": [
    "ssc.stop()"
   ]
  }
 ],
 "metadata": {
  "anaconda-cloud": {},
  "kernelspec": {
   "display_name": "Python 3",
   "language": "python",
   "name": "python3"
  },
  "language_info": {
   "codemirror_mode": {
    "name": "ipython",
    "version": 3
   },
   "file_extension": ".py",
   "mimetype": "text/x-python",
   "name": "python",
   "nbconvert_exporter": "python",
   "pygments_lexer": "ipython3",
   "version": "3.6.3"
  }
 },
 "nbformat": 4,
 "nbformat_minor": 1
}
